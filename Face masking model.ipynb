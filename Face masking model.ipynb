{
  "nbformat": 4,
  "nbformat_minor": 0,
  "metadata": {
    "colab": {
      "provenance": []
    },
    "kernelspec": {
      "name": "python3",
      "display_name": "Python 3"
    },
    "language_info": {
      "name": "python"
    }
  },
  "cells": [
    {
      "cell_type": "code",
      "execution_count": null,
      "metadata": {
        "id": "HYhMr5veD_9Y"
      },
      "outputs": [],
      "source": [
        "#used for finding image face so to call that use cv2\n",
        "import cv2"
      ]
    },
    {
      "cell_type": "code",
      "source": [
        "#load cascade\n",
        "face_cascade= cv2.CascadeClassifier('haarcascade_frontalface_default.xml')"
      ],
      "metadata": {
        "id": "SXXKE0BJETce"
      },
      "execution_count": null,
      "outputs": []
    },
    {
      "cell_type": "code",
      "source": [
        "#upload input image\n",
        "img= cv2.imread('rakshuuu.jpg')"
      ],
      "metadata": {
        "id": "-DuM92cIEpRn"
      },
      "execution_count": null,
      "outputs": []
    },
    {
      "cell_type": "code",
      "source": [
        "faces=face_cascade.detectMultiScale(img,1.1,4)\n",
        "#detect faces\n",
        "#1.1 is x axis and 4 is y axis"
      ],
      "metadata": {
        "id": "ntuxaHGcFHEX"
      },
      "execution_count": null,
      "outputs": []
    },
    {
      "cell_type": "code",
      "source": [
        "#draw rectangle around faces\n",
        "#taking pic to 4D level, xywh are dimensions\n",
        "#255 is defined for format for calling the whole picture\n",
        "#255,0,0 means call whole pic if it was(255,89,56) then it means call                                                                                         \n",
        "for(x,y,w,h) in faces:\n",
        "  cv2.rectangle(img,(x,y),(x+w,y+h),(255,0,0),2)"
      ],
      "metadata": {
        "id": "fzIJHpSwFqMX"
      },
      "execution_count": null,
      "outputs": []
    },
    {
      "cell_type": "code",
      "source": [
        "#export image\n",
        "cv2.imwrite(\"face_detected.png\",img)\n",
        "print('photo successfully exported')"
      ],
      "metadata": {
        "colab": {
          "base_uri": "https://localhost:8080/"
        },
        "id": "_jdFWM0FHSND",
        "outputId": "18b1bf71-396b-4102-dae0-124c3324c326"
      },
      "execution_count": null,
      "outputs": [
        {
          "output_type": "stream",
          "name": "stdout",
          "text": [
            "photo successfully exported\n"
          ]
        }
      ]
    },
    {
      "cell_type": "code",
      "source": [],
      "metadata": {
        "id": "OkKEnmF4KXvq"
      },
      "execution_count": null,
      "outputs": []
    }
  ]
}